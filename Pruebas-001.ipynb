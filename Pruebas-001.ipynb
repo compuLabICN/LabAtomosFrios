{
 "metadata": {
  "language": "Julia",
  "name": "",
  "signature": "sha256:1960cd1574ebc5adee6b35e2d6ffa17209f98204f0a3de6ad605fcde1f4a4cd9"
 },
 "nbformat": 3,
 "nbformat_minor": 0,
 "worksheets": [
  {
   "cells": [
    {
     "cell_type": "code",
     "collapsed": false,
     "input": [
      "\u03b1=[1,2,3,4,5]\n",
      "\u03b2=[1 2 3];"
     ],
     "language": "python",
     "metadata": {},
     "outputs": [],
     "prompt_number": 62
    },
    {
     "cell_type": "code",
     "collapsed": false,
     "input": [
      "\u03b1"
     ],
     "language": "python",
     "metadata": {},
     "outputs": [
      {
       "metadata": {},
       "output_type": "pyout",
       "prompt_number": 63,
       "text": [
        "5-element Array{Int64,1}:\n",
        " 1\n",
        " 2\n",
        " 3\n",
        " 4\n",
        " 5"
       ]
      }
     ],
     "prompt_number": 63
    },
    {
     "cell_type": "code",
     "collapsed": false,
     "input": [
      "typeof(\u03b1)\n",
      "typeof(\u03b2)"
     ],
     "language": "python",
     "metadata": {},
     "outputs": [
      {
       "metadata": {},
       "output_type": "pyout",
       "prompt_number": 64,
       "text": [
        "Array{Int64,2}"
       ]
      }
     ],
     "prompt_number": 64
    },
    {
     "cell_type": "code",
     "collapsed": false,
     "input": [
      "\u03b1=zeros(4);\n",
      "for i=1:length(\u03b1),\n",
      "    \u03b1[i]=2*i\n",
      "    println(\u03b1[i])\n",
      "end"
     ],
     "language": "python",
     "metadata": {},
     "outputs": [
      {
       "output_type": "stream",
       "stream": "stdout",
       "text": [
        "2.0"
       ]
      },
      {
       "output_type": "stream",
       "stream": "stdout",
       "text": [
        "\n",
        "4.0\n",
        "6.0\n",
        "8.0\n"
       ]
      }
     ],
     "prompt_number": 65
    },
    {
     "cell_type": "code",
     "collapsed": false,
     "input": [],
     "language": "python",
     "metadata": {},
     "outputs": []
    }
   ],
   "metadata": {}
  }
 ]
}